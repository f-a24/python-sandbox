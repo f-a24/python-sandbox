{
 "cells": [
  {
   "cell_type": "code",
   "execution_count": 4,
   "metadata": {
    "tags": [
     "outputPrepend"
    ]
   },
   "outputs": [
    {
     "output_type": "execute_result",
     "data": {
      "text/plain": "200"
     },
     "metadata": {},
     "execution_count": 4
    }
   ],
   "source": [
    "import requests\n",
    "r = requests.get('https://api.github.com/users/facebook/repos')\n",
    "r.status_code"
   ]
  },
  {
   "cell_type": "code",
   "execution_count": 5,
   "metadata": {},
   "outputs": [
    {
     "output_type": "execute_result",
     "data": {
      "text/plain": "k\":false,\"url\":\"https://api.github.com/repos/facebook/facebook-ruby-business-sdk\",\"forks_url\":\"https://api.github.com/repos/facebook/facebook-ruby-business-sdk/forks\",\"keys_url\":\"https://api.github.com/repos/facebook/facebook-ruby-business-sdk/keys{/key_id}\",\"collaborators_url\":\"https://api.github.com/repos/facebook/facebook-ruby-business-sdk/collaborators{/collaborator}\",\"teams_url\":\"https://api.github.com/repos/facebook/facebook-ruby-business-sdk/teams\",\"hooks_url\":\"https://api.github.com/repos/facebook/facebook-ruby-business-sdk/hooks\",\"issue_events_url\":\"https://api.github.com/repos/facebook/facebook-ruby-business-sdk/issues/events{/number}\",\"events_url\":\"https://api.github.com/repos/facebook/facebook-ruby-business-sdk/events\",\"assignees_url\":\"https://api.github.com/repos/facebook/facebook-ruby-business-sdk/assignees{/user}\",\"branches_url\":\"https://api.github.com/repos/facebook/facebook-ruby-business-sdk/branches{/branch}\",\"tags_url\":\"https://api.github.com/repos/facebook/facebook-ruby-business-sdk/tags\",\"blobs_url\":\"https://api.github.com/repos/facebook/facebook-ruby-business-sdk/git/blobs{/sha}\",\"git_tags_url\":\"https://api.github.com/repos/facebook/facebook-ruby-business-sdk/git/tags{/sha}\",\"git_refs_url\":\"https://api.github.com/repos/facebook/facebook-ruby-business-sdk/git/refs{/sha}\",\"trees_url\":\"https://api.github.com/repos/facebook/facebook-ruby-business-sdk/git/trees{/sha}\",\"statuses_url\":\"https://api.github.com/repos/facebook/facebook-ruby-business-sdk/statuses/{sha}\",\"languages_url\":\"https://api.github.com/repos/facebook/facebook-ruby-business-sdk/languages\",\"stargazers_url\":\"https://api.github.com/repos/facebook/facebook-ruby-business-sdk/stargazers\",\"contributors_url\":\"https://api.github.com/repos/facebook/facebook-ruby-business-sdk/contributors\",\"subscribers_url\":\"https://api.github.com/repos/facebook/facebook-ruby-business-sdk/subscribers\",\"subscription_url\":\"https://api.github.com/repos/facebook/facebook-ruby-business-sdk/subscription\",\"commits_url\":\"https://api.github.com/repos/facebook/facebook-ruby-business-sdk/commits{/sha}\",\"git_commits_url\":\"https://api.github.com/repos/facebook/facebook-ruby-business-sdk/git/commits{/sha}\",\"comments_url\":\"https://api.github.com/repos/facebook/facebook-ruby-business-sdk/comments{/number}\",\"issue_comment_url\":\"https://api.github.com/repos/facebook/facebook-ruby-business-sdk/issues/comments{/number}\",\"contents_url\":\"https://api.github.com/repos/facebook/facebook-ruby-business-sdk/contents/{+path}\",\"compare_url\":\"https://api.github.com/repos/facebook/facebook-ruby-business-sdk/compare/{base}...{head}\",\"merges_url\":\"https://api.github.com/repos/facebook/facebook-ruby-business-sdk/merges\",\"archive_url\":\"https://api.github.com/repos/facebook/facebook-ruby-business-sdk/{archive_format}{/ref}\",\"downloads_url\":\"https://api.github.com/repos/facebook/facebook-ruby-business-sdk/downloads\",\"issues_url\":\"https://api.github.com/repos/facebook/facebook-ruby-business-sdk/issues{/number}\",\"pulls_url\":\"https://api.github.com/repos/facebook/facebook-ruby-business-sdk/pulls{/number}\",\"milestones_url\":\"https://api.github.com/repos/facebook/facebook-ruby-business-sdk/milestones{/number}\",\"notifications_url\":\"https://api.github.com/repos/facebook/facebook-ruby-business-sdk/notifications{?since,all,participating}\",\"labels_url\":\"https://api.github.com/repos/facebook/facebook-ruby-business-sdk/labels{/name}\",\"releases_url\":\"https://api.github.com/repos/facebook/facebook-ruby-business-sdk/releases{/id}\",\"deployments_url\":\"https://api.github.com/repos/facebook/facebook-ruby-business-sdk/deployments\",\"created_at\":\"2015-02-25T00:28:14Z\",\"updated_at\":\"2020-04-30T20:17:37Z\",\"pushed_at\":\"2020-04-28T06:48:43Z\",\"git_url\":\"git://github.com/facebook/facebook-ruby-business-sdk.git\",\"ssh_url\":\"git@github.com:facebook/facebook-ruby-business-sdk.git\",\"clone_url\":\"https://github.com/facebook/facebook-ruby-business-sdk.git\",\"svn_url\":\"https://github.com/facebook/facebook-ruby-business-sdk\",\"homepage\":null,\"size\":1068,\"stargazers_count\":126,\"watchers_count\":126,\"language\":\"Ruby\",\"has_issues\":true,\"has_projects\":true,\"has_downloads\":true,\"has_wiki\":false,\"has_pages\":false,\"forks_count\":65,\"mirror_url\":null,\"archived\":false,\"disabled\":false,\"open_issues_count\":16,\"license\":{\"key\":\"other\",\"name\":\"Other\",\"spdx_id\":\"NOASSERTION\",\"url\":null,\"node_id\":\"MDc6TGljZW5zZTA=\"},\"forks\":65,\"open_issues\":16,\"watchers\":126,\"default_branch\":\"master\"},{\"id\":41766017,\"node_id\":\"MDEwOlJlcG9zaXRvcnk0MTc2NjAxNw==\",\"name\":\"facebook-sdk-for-unity\",\"full_name\":\"facebook/facebook-sdk-for-unity\",\"private\":false,\"owner\":{\"login\":\"facebook\",\"id\":69631,\"node_id\":\"MDEyOk9yZ2FuaXphdGlvbjY5NjMx\",\"avatar_url\":\"https://avatars3.githubusercontent.com/u/69631?v=4\",\"gravatar_id\":\"\",\"url\":\"https://api.github.com/users/facebook\",\"html_url\":\"https://github.com/facebook\",\"followers_url\":\"https://api.github.com/users/facebook/followers\",\"following_url\":\"https://api.github.com/users/facebook/following{/other_user}\",\"gists_url\":\"https://api.github.com/users/facebook/gists{/gist_id}\",\"starred_url\":\"https://api.github.com/users/facebook/starred{/owner}{/repo}\",\"subscriptions_url\":\"https://api.github.com/users/facebook/subscriptions\",\"organizations_url\":\"https://api.github.com/users/facebook/orgs\",\"repos_url\":\"https://api.github.com/users/facebook/repos\",\"events_url\":\"https://api.github.com/users/facebook/events{/privacy}\",\"received_events_url\":\"https://api.github.com/users/facebook/received_events\",\"type\":\"Organization\",\"site_admin\":false},\"html_url\":\"https://github.com/facebook/facebook-sdk-for-unity\",\"description\":\"The facebook sdk for unity.\",\"fork\":false,\"url\":\"https://api.github.com/repos/facebook/facebook-sdk-for-unity\",\"forks_url\":\"https://api.github.com/repos/facebook/facebook-sdk-for-unity/forks\",\"keys_url\":\"https://api.github.com/repos/facebook/facebook-sdk-for-unity/keys{/key_id}\",\"collaborators_url\":\"https://api.github.com/repos/facebook/facebook-sdk-for-unity/collaborators{/collaborator}\",\"teams_url\":\"https://api.github.com/repos/facebook/facebook-sdk-for-unity/teams\",\"hooks_url\":\"https://api.github.com/repos/facebook/facebook-sdk-for-unity/hooks\",\"issue_events_url\":\"https://api.github.com/repos/facebook/facebook-sdk-for-unity/issues/events{/number}\",\"events_url\":\"https://api.github.com/repos/facebook/facebook-sdk-for-unity/events\",\"assignees_url\":\"https://api.github.com/repos/facebook/facebook-sdk-for-unity/assignees{/user}\",\"branches_url\":\"https://api.github.com/repos/facebook/facebook-sdk-for-unity/branches{/branch}\",\"tags_url\":\"https://api.github.com/repos/facebook/facebook-sdk-for-unity/tags\",\"blobs_url\":\"https://api.github.com/repos/facebook/facebook-sdk-for-unity/git/blobs{/sha}\",\"git_tags_url\":\"https://api.github.com/repos/facebook/facebook-sdk-for-unity/git/tags{/sha}\",\"git_refs_url\":\"https://api.github.com/repos/facebook/facebook-sdk-for-unity/git/refs{/sha}\",\"trees_url\":\"https://api.github.com/repos/facebook/facebook-sdk-for-unity/git/trees{/sha}\",\"statuses_url\":\"https://api.github.com/repos/facebook/facebook-sdk-for-unity/statuses/{sha}\",\"languages_url\":\"https://api.github.com/repos/facebook/facebook-sdk-for-unity/languages\",\"stargazers_url\":\"https://api.github.com/repos/facebook/facebook-sdk-for-unity/stargazers\",\"contributors_url\":\"https://api.github.com/repos/facebook/facebook-sdk-for-unity/contributors\",\"subscribers_url\":\"https://api.github.com/repos/facebook/facebook-sdk-for-unity/subscribers\",\"subscription_url\":\"https://api.github.com/repos/facebook/facebook-sdk-for-unity/subscription\",\"commits_url\":\"https://api.github.com/repos/facebook/facebook-sdk-for-unity/commits{/sha}\",\"git_commits_url\":\"https://api.github.com/repos/facebook/facebook-sdk-for-unity/git/commits{/sha}\",\"comments_url\":\"https://api.github.com/repos/facebook/facebook-sdk-for-unity/comments{/number}\",\"issue_comment_url\":\"https://api.github.com/repos/facebook/facebook-sdk-for-unity/issues/comments{/number}\",\"contents_url\":\"https://api.github.com/repos/facebook/facebook-sdk-for-unity/contents/{+path}\",\"compare_url\":\"https://api.github.com/repos/facebook/facebook-sdk-for-unity/compare/{base}...{head}\",\"merges_url\":\"https://api.github.com/repos/facebook/facebook-sdk-for-unity/merges\",\"archive_url\":\"https://api.github.com/repos/facebook/facebook-sdk-for-unity/{archive_format}{/ref}\",\"downloads_url\":\"https://api.github.com/repos/facebook/facebook-sdk-for-unity/downloads\",\"issues_url\":\"https://api.github.com/repos/facebook/facebook-sdk-for-unity/issues{/number}\",\"pulls_url\":\"https://api.github.com/repos/facebook/facebook-sdk-for-unity/pulls{/number}\",\"milestones_url\":\"https://api.github.com/repos/facebook/facebook-sdk-for-unity/milestones{/number}\",\"notifications_url\":\"https://api.github.com/repos/facebook/facebook-sdk-for-unity/notifications{?since,all,participating}\",\"labels_url\":\"https://api.github.com/repos/facebook/facebook-sdk-for-unity/labels{/name}\",\"releases_url\":\"https://api.github.com/repos/facebook/facebook-sdk-for-unity/releases{/id}\",\"deployments_url\":\"https://api.github.com/repos/facebook/facebook-sdk-for-unity/deployments\",\"created_at\":\"2015-09-01T22:11:09Z\",\"updated_at\":\"2020-05-04T10:42:48Z\",\"pushed_at\":\"2020-04-28T08:16:42Z\",\"git_url\":\"git://github.com/facebook/facebook-sdk-for-unity.git\",\"ssh_url\":\"git@github.com:facebook/facebook-sdk-for-unity.git\",\"clone_url\":\"https://github.com/facebook/facebook-sdk-for-unity.git\",\"svn_url\":\"https://github.com/facebook/facebook-sdk-for-unity\",\"homepage\":\"https://developers.facebook.com/docs/unity\",\"size\":1270,\"stargazers_count\":270,\"watchers_count\":270,\"language\":\"C++\",\"has_issues\":true,\"has_projects\":true,\"has_downloads\":true,\"has_wiki\":true,\"has_pages\":false,\"forks_count\":186,\"mirror_url\":null,\"archived\":false,\"disabled\":false,\"open_issues_count\":228,\"license\":{\"key\":\"other\",\"name\":\"Other\",\"spdx_id\":\"NOASSERTION\",\"url\":null,\"node_id\":\"MDc6TGljZW5zZTA=\"},\"forks\":186,\"open_issues\":228,\"watchers\":270,\"default_branch\":\"master\"},{\"id\":204788647,\"node_id\":\"MDEwOlJlcG9zaXRvcnkyMDQ3ODg2NDc=\",\"name\":\"facebook360_dep\",\"full_name\":\"facebook/facebook360_dep\",\"private\":false,\"owner\":{\"login\":\"facebook\",\"id\":69631,\"node_id\":\"MDEyOk9yZ2FuaXphdGlvbjY5NjMx\",\"avatar_url\":\"https://avatars3.githubusercontent.com/u/69631?v=4\",\"gravatar_id\":\"\",\"url\":\"https://api.github.com/users/facebook\",\"html_url\":\"https://github.com/facebook\",\"followers_url\":\"https://api.github.com/users/facebook/followers\",\"following_url\":\"https://api.github.com/users/facebook/following{/other_user}\",\"gists_url\":\"https://api.github.com/users/facebook/gists{/gist_id}\",\"starred_url\":\"https://api.github.com/users/facebook/starred{/owner}{/repo}\",\"subscriptions_url\":\"https://api.github.com/users/facebook/subscriptions\",\"organizations_url\":\"https://api.github.com/users/facebook/orgs\",\"repos_url\":\"https://api.github.com/users/facebook/repos\",\"events_url\":\"https://api.github.com/users/facebook/events{/privacy}\",\"received_events_url\":\"https://api.github.com/users/facebook/received_events\",\"type\":\"Organization\",\"site_admin\":false},\"html_url\":\"https://github.com/facebook/facebook360_dep\",\"description\":\"Facebook360 Depth Estimation Pipeline - https://facebook.github.io/facebook360_dep\",\"fork\":false,\"url\":\"https://api.github.com/repos/facebook/facebook360_dep\",\"forks_url\":\"https://api.github.com/repos/facebook/facebook360_dep/forks\",\"keys_url\":\"https://api.github.com/repos/facebook/facebook360_dep/keys{/key_id}\",\"collaborators_url\":\"https://api.github.com/repos/facebook/facebook360_dep/collaborators{/collaborator}\",\"teams_url\":\"https://api.github.com/repos/facebook/facebook360_dep/teams\",\"hooks_url\":\"https://api.github.com/repos/facebook/facebook360_dep/hooks\",\"issue_events_url\":\"https://api.github.com/repos/facebook/facebook360_dep/issues/events{/number}\",\"events_url\":\"https://api.github.com/repos/facebook/facebook360_dep/events\",\"assignees_url\":\"https://api.github.com/repos/facebook/facebook360_dep/assignees{/user}\",\"branches_url\":\"https://api.github.com/repos/facebook/facebook360_dep/branches{/branch}\",\"tags_url\":\"https://api.github.com/repos/facebook/facebook360_dep/tags\",\"blobs_url\":\"https://api.github.com/repos/facebook/facebook360_dep/git/blobs{/sha}\",\"git_tags_url\":\"https://api.github.com/repos/facebook/facebook360_dep/git/tags{/sha}\",\"git_refs_url\":\"https://api.github.com/repos/facebook/facebook360_dep/git/refs{/sha}\",\"trees_url\":\"https://api.github.com/repos/facebook/facebook360_dep/git/trees{/sha}\",\"statuses_url\":\"https://api.github.com/repos/facebook/facebook360_dep/statuses/{sha}\",\"languages_url\":\"https://api.github.com/repos/facebook/facebook360_dep/languages\",\"stargazers_url\":\"https://api.github.com/repos/facebook/facebook360_dep/stargazers\",\"contributors_url\":\"https://api.github.com/repos/facebook/facebook360_dep/contributors\",\"subscribers_url\":\"https://api.github.com/repos/facebook/facebook360_dep/subscribers\",\"subscription_url\":\"https://api.github.com/repos/facebook/facebook360_dep/subscription\",\"commits_url\":\"https://api.github.com/repos/facebook/facebook360_dep/commits{/sha}\",\"git_commits_url\":\"https://api.github.com/repos/facebook/facebook360_dep/git/commits{/sha}\",\"comments_url\":\"https://api.github.com/repos/facebook/facebook360_dep/comments{/number}\",\"issue_comment_url\":\"https://api.github.com/repos/facebook/facebook360_dep/issues/comments{/number}\",\"contents_url\":\"https://api.github.com/repos/facebook/facebook360_dep/contents/{+path}\",\"compare_url\":\"https://api.github.com/repos/facebook/facebook360_dep/compare/{base}...{head}\",\"merges_url\":\"https://api.github.com/repos/facebook/facebook360_dep/merges\",\"archive_url\":\"https://api.github.com/repos/facebook/facebook360_dep/{archive_format}{/ref}\",\"downloads_url\":\"https://api.github.com/repos/facebook/facebook360_dep/downloads\",\"issues_url\":\"https://api.github.com/repos/facebook/facebook360_dep/issues{/number}\",\"pulls_url\":\"https://api.github.com/repos/facebook/facebook360_dep/pulls{/number}\",\"milestones_url\":\"https://api.github.com/repos/facebook/facebook360_dep/milestones{/number}\",\"notifications_url\":\"https://api.github.com/repos/facebook/facebook360_dep/notifications{?since,all,participating}\",\"labels_url\":\"https://api.github.com/repos/facebook/facebook360_dep/labels{/name}\",\"releases_url\":\"https://api.github.com/repos/facebook/facebook360_dep/releases{/id}\",\"deployments_url\":\"https://api.github.com/repos/facebook/facebook360_dep/deployments\",\"created_at\":\"2019-08-27T20:53:07Z\",\"updated_at\":\"2020-04-29T10:07:56Z\",\"pushed_at\":\"2020-03-09T15:37:40Z\",\"git_url\":\"git://github.com/facebook/facebook360_dep.git\",\"ssh_url\":\"git@github.com:facebook/facebook360_dep.git\",\"clone_url\":\"https://github.com/facebook/facebook360_dep.git\",\"svn_url\":\"https://github.com/facebook/facebook360_dep\",\"homepage\":\"\",\"size\":45940,\"stargazers_count\":158,\"watchers_count\":158,\"language\":\"HTML\",\"has_issues\":true,\"has_projects\":true,\"has_downloads\":true,\"has_wiki\":false,\"has_pages\":true,\"forks_count\":24,\"mirror_url\":null,\"archived\":false,\"disabled\":false,\"open_issues_count\":13,\"license\":{\"key\":\"other\",\"name\":\"Other\",\"spdx_id\":\"NOASSERTION\",\"url\":null,\"node_id\":\"MDc6TGljZW5zZTA=\"},\"forks\":24,\"open_issues\":13,\"watchers\":158,\"default_branch\":\"master\"},{\"id\":111588048,\"node_id\":\"MDEwOlJlcG9zaXRvcnkxMTE1ODgwNDg=\",\"name\":\"FAI-PEP\",\"full_name\":\"facebook/FAI-PEP\",\"private\":false,\"owner\":{\"login\":\"facebook\",\"id\":69631,\"node_id\":\"MDEyOk9yZ2FuaXphdGlvbjY5NjMx\",\"avatar_url\":\"https://avatars3.githubusercontent.com/u/69631?v=4\",\"gravatar_id\":\"\",\"url\":\"https://api.github.com/users/facebook\",\"html_url\":\"https://github.com/facebook\",\"followers_url\":\"https://api.github.com/users/facebook/followers\",\"following_url\":\"https://api.github.com/users/facebook/following{/other_user}\",\"gists_url\":\"https://api.github.com/users/facebook/gists{/gist_id}\",\"starred_url\":\"https://api.github.com/users/facebook/starred{/owner}{/repo}\",\"subscriptions_url\":\"https://api.github.com/users/facebook/subscriptions\",\"organizations_url\":\"https://api.github.com/users/facebook/orgs\",\"repos_url\":\"https://api.github.com/users/facebook/repos\",\"events_url\":\"https://api.github.com/users/facebook/events{/privacy}\",\"received_events_url\":\"https://api.github.com/users/facebook/received_events\",\"type\":\"Organization\",\"site_admin\":false},\"html_url\":\"https://github.com/facebook/FAI-PEP\",\"description\":\"Facebook AI Performance Evaluation Platform\",\"fork\":false,\"url\":\"https://api.github.com/repos/facebook/FAI-PEP\",\"forks_url\":\"https://api.github.com/repos/facebook/FAI-PEP/forks\",\"keys_url\":\"https://api.github.com/repos/facebook/FAI-PEP/keys{/key_id}\",\"collaborators_url\":\"https://api.github.com/repos/facebook/FAI-PEP/collaborators{/collaborator}\",\"teams_url\":\"https://api.github.com/repos/facebook/FAI-PEP/teams\",\"hooks_url\":\"https://api.github.com/repos/facebook/FAI-PEP/hooks\",\"issue_events_url\":\"https://api.github.com/repos/facebook/FAI-PEP/issues/events{/number}\",\"events_url\":\"https://api.github.com/repos/facebook/FAI-PEP/events\",\"assignees_url\":\"https://api.github.com/repos/facebook/FAI-PEP/assignees{/user}\",\"branches_url\":\"https://api.github.com/repos/facebook/FAI-PEP/branches{/branch}\",\"tags_url\":\"https://api.github.com/repos/facebook/FAI-PEP/tags\",\"blobs_url\":\"https://api.github.com/repos/facebook/FAI-PEP/git/blobs{/sha}\",\"git_tags_url\":\"https://api.github.com/repos/facebook/FAI-PEP/git/tags{/sha}\",\"git_refs_url\":\"https://api.github.com/repos/facebook/FAI-PEP/git/refs{/sha}\",\"trees_url\":\"https://api.github.com/repos/facebook/FAI-PEP/git/trees{/sha}\",\"statuses_url\":\"https://api.github.com/repos/facebook/FAI-PEP/statuses/{sha}\",\"languages_url\":\"https://api.github.com/repos/facebook/FAI-PEP/languages\",\"stargazers_url\":\"https://api.github.com/repos/facebook/FAI-PEP/stargazers\",\"contributors_url\":\"https://api.github.com/repos/facebook/FAI-PEP/contributors\",\"subscribers_url\":\"https://api.github.com/repos/facebook/FAI-PEP/subscribers\",\"subscription_url\":\"https://api.github.com/repos/facebook/FAI-PEP/subscription\",\"commits_url\":\"https://api.github.com/repos/facebook/FAI-PEP/commits{/sha}\",\"git_commits_url\":\"https://api.github.com/repos/facebook/FAI-PEP/git/commits{/sha}\",\"comments_url\":\"https://api.github.com/repos/facebook/FAI-PEP/comments{/number}\",\"issue_comment_url\":\"https://api.github.com/repos/facebook/FAI-PEP/issues/comments{/number}\",\"contents_url\":\"https://api.github.com/repos/facebook/FAI-PEP/contents/{+path}\",\"compare_url\":\"https://api.github.com/repos/facebook/FAI-PEP/compare/{base}...{head}\",\"merges_url\":\"https://api.github.com/repos/facebook/FAI-PEP/merges\",\"archive_url\":\"https://api.github.com/repos/facebook/FAI-PEP/{archive_format}{/ref}\",\"downloads_url\":\"https://api.github.com/repos/facebook/FAI-PEP/downloads\",\"issues_url\":\"https://api.github.com/repos/facebook/FAI-PEP/issues{/number}\",\"pulls_url\":\"https://api.github.com/repos/facebook/FAI-PEP/pulls{/number}\",\"milestones_url\":\"https://api.github.com/repos/facebook/FAI-PEP/milestones{/number}\",\"notifications_url\":\"https://api.github.com/repos/facebook/FAI-PEP/notifications{?since,all,participating}\",\"labels_url\":\"https://api.github.com/repos/facebook/FAI-PEP/labels{/name}\",\"releases_url\":\"https://api.github.com/repos/facebook/FAI-PEP/releases{/id}\",\"deployments_url\":\"https://api.github.com/repos/facebook/FAI-PEP/deployments\",\"created_at\":\"2017-11-21T18:47:29Z\",\"updated_at\":\"2020-05-03T11:15:31Z\",\"pushed_at\":\"2020-04-29T17:50:55Z\",\"git_url\":\"git://github.com/facebook/FAI-PEP.git\",\"ssh_url\":\"git@github.com:facebook/FAI-PEP.git\",\"clone_url\":\"https://github.com/facebook/FAI-PEP.git\",\"svn_url\":\"https://github.com/facebook/FAI-PEP\",\"homepage\":\"\",\"size\":25095,\"stargazers_count\":290,\"watchers_count\":290,\"language\":\"Python\",\"has_issues\":true,\"has_projects\":true,\"has_downloads\":true,\"has_wiki\":true,\"has_pages\":false,\"forks_count\":58,\"mirror_url\":null,\"archived\":false,\"disabled\":false,\"open_issues_count\":9,\"license\":{\"key\":\"apache-2.0\",\"name\":\"Apache License 2.0\",\"spdx_id\":\"Apache-2.0\",\"url\":\"https://api.github.com/licenses/apache-2.0\",\"node_id\":\"MDc6TGljZW5zZTI=\"},\"forks\":58,\"open_issues\":9,\"watchers\":290,\"default_branch\":\"master\"}]'"
     },
     "metadata": {},
     "execution_count": 5
    }
   ],
   "source": [
    "r.text"
   ]
  },
  {
   "cell_type": "code",
   "execution_count": 15,
   "metadata": {},
   "outputs": [
    {
     "output_type": "stream",
     "name": "stdout",
     "text": "===REPO NAME=== .github\n===REPO NAME=== Ax\n===REPO NAME=== between-meals\n===REPO NAME=== bistro\n===REPO NAME=== buck\n===REPO NAME=== chef-cookbooks\n===REPO NAME=== chef-utils\n===REPO NAME=== chisel\n===REPO NAME=== codemod\n===REPO NAME=== componentkit\n===REPO NAME=== create-react-app\n===REPO NAME=== DelegatedRecoveryReferenceImplementation\n===REPO NAME=== DelegatedRecoverySpecification\n===REPO NAME=== docusaurus\n===REPO NAME=== draft-js\n===REPO NAME=== duckling\n===REPO NAME=== facebook-android-sdk\n===REPO NAME=== facebook-business-sdk-codegen\n===REPO NAME=== facebook-clang-plugins\n===REPO NAME=== facebook-instant-articles-sdk-extensions-in-php\n===REPO NAME=== facebook-instant-articles-sdk-php\n===REPO NAME=== facebook-ios-sdk\n===REPO NAME=== facebook-java-business-sdk\n===REPO NAME=== facebook-nodejs-business-sdk\n===REPO NAME=== facebook-php-business-sdk\n===REPO NAME=== facebook-python-business-sdk\n===REPO NAME=== facebook-ruby-business-sdk\n===REPO NAME=== facebook-sdk-for-unity\n===REPO NAME=== facebook360_dep\n===REPO NAME=== FAI-PEP\n"
    }
   ],
   "source": [
    "json = r.json()\n",
    "for i in range(len(json)):\n",
    "    print('===REPO NAME===', json[i]['name'])"
   ]
  },
  {
   "cell_type": "code",
   "execution_count": 26,
   "metadata": {},
   "outputs": [
    {
     "output_type": "stream",
     "name": "stdout",
     "text": "===XPath=== React\nh1\n{'class': 'css-159p4b7'}\n"
    }
   ],
   "source": [
    "'''\n",
    "https://ja.reactjs.org/\n",
    "\n",
    "xpath\n",
    "//*[@id=\"gatsby-focus-wrapper\"]/div/div/div/header/div/div/div/h1\n",
    "\n",
    "css selector\n",
    "#gatsby-focus-wrapper > div > div > div > header > div > div > div > h1\n",
    "'''\n",
    "import lxml.html\n",
    "reactja = requests.get('https://ja.reactjs.org/')\n",
    "html = reactja.text\n",
    "root = lxml.html.fromstring(html)\n",
    "titleH1 = root.xpath('//*[@id=\"gatsby-focus-wrapper\"]/div/div/div/header/div/div/div/h1')\n",
    "print('===XPath===', titleH1[0].text)\n",
    "print(titleH1[0].tag)\n",
    "print(titleH1[0].attrib)"
   ]
  },
  {
   "cell_type": "code",
   "execution_count": 27,
   "metadata": {},
   "outputs": [
    {
     "output_type": "stream",
     "name": "stdout",
     "text": "ユーザインターフェース構築のための JavaScript ライブラリ\n"
    }
   ],
   "source": [
    "descriptionP = root.cssselect('#gatsby-focus-wrapper > div > div > div > header > div > div > div > p')\n",
    "print(descriptionP[0].text)"
   ]
  },
  {
   "cell_type": "code",
   "execution_count": null,
   "metadata": {},
   "outputs": [],
   "source": []
  }
 ],
 "metadata": {
  "language_info": {
   "codemirror_mode": {
    "name": "ipython",
    "version": 3
   },
   "file_extension": ".py",
   "mimetype": "text/x-python",
   "name": "python",
   "nbconvert_exporter": "python",
   "pygments_lexer": "ipython3",
   "version": "3.7.6-final"
  },
  "orig_nbformat": 2,
  "kernelspec": {
   "name": "python3",
   "display_name": "Python 3"
  }
 },
 "nbformat": 4,
 "nbformat_minor": 2
}